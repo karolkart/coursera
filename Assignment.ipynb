{
 "cells": [
  {
   "cell_type": "markdown",
   "id": "3f7998f2",
   "metadata": {},
   "source": [
    "# My Jupter Notebook on SkillsNetworks Lab"
   ]
  },
  {
   "cell_type": "markdown",
   "id": "14545aea",
   "metadata": {},
   "source": [
    "**Karol Kowalski**\n",
    "\n",
    "Poland"
   ]
  },
  {
   "cell_type": "markdown",
   "id": "02e1758f",
   "metadata": {},
   "source": [
    "*I am interesed in data science because I work with the data on daily basis and I enjoy providing insights to my peers. Working with data is in my opinion the most interesing part of working in IT with a sexy role of Data Scientist on top of that*"
   ]
  },
  {
   "cell_type": "markdown",
   "id": "f2f94088",
   "metadata": {},
   "source": [
    "### Purpose of the code below is to swap two variables without using temporary variable"
   ]
  },
  {
   "cell_type": "code",
   "execution_count": 5,
   "id": "c5e8e0fc",
   "metadata": {},
   "outputs": [
    {
     "name": "stdout",
     "output_type": "stream",
     "text": [
      "a =  10 b =  5\n"
     ]
    }
   ],
   "source": [
    "a = 5\n",
    "b = 10\n",
    "\n",
    "a, b = b, a\n",
    "\n",
    "print(\"a = \", a, \"b = \", b)"
   ]
  },
  {
   "cell_type": "markdown",
   "id": "4bbcae7b",
   "metadata": {},
   "source": [
    "* First point\n",
    "* Second point\n",
    "\n",
    "Trying | New | Table\n",
    "--- | --- | ---\n",
    "*Looks* | `Quite` | **Nice**\n",
    "1 | 2 | 3\n",
    "\n",
    "> Quoting after seeing the table\n",
    "\n",
    "[I'm a Rick Roll](https://www.youtube.com/watch?v=dQw4w9WgXcQ)"
   ]
  },
  {
   "cell_type": "markdown",
   "id": "a14231a2",
   "metadata": {},
   "source": []
  },
  {
   "cell_type": "code",
   "execution_count": null,
   "id": "64a06170",
   "metadata": {},
   "outputs": [],
   "source": []
  }
 ],
 "metadata": {
  "kernelspec": {
   "display_name": "Python 3 (ipykernel)",
   "language": "python",
   "name": "python3"
  },
  "language_info": {
   "codemirror_mode": {
    "name": "ipython",
    "version": 3
   },
   "file_extension": ".py",
   "mimetype": "text/x-python",
   "name": "python",
   "nbconvert_exporter": "python",
   "pygments_lexer": "ipython3",
   "version": "3.9.7"
  }
 },
 "nbformat": 4,
 "nbformat_minor": 5
}
